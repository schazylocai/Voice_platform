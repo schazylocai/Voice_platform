{
 "cells": [
  {
   "cell_type": "markdown",
   "id": "52824b89-532a-4e54-87e9-1410813cd39e",
   "metadata": {},
   "source": [
    "# Load Environment & Libraries"
   ]
  },
  {
   "cell_type": "code",
   "execution_count": 13,
   "id": "10c1f7b9",
   "metadata": {
    "ExecuteTime": {
     "end_time": "2023-06-17T09:34:27.992296Z",
     "start_time": "2023-06-17T09:34:27.988642Z"
    }
   },
   "outputs": [],
   "source": [
    "#!pip install --upgrade pip\n",
    "#!pip install --upgrade langchain\n",
    "#!pip install docarray\n",
    "#!pip install python-dotenv\n",
    "#!pip install tiktoken\n",
    "#pip install pypdf\n",
    "#!pip install openai\n",
    "#!pip install streamlit"
   ]
  },
  {
   "cell_type": "code",
   "execution_count": 2,
   "id": "b7ed03ed-1322-49e3-b2a2-33e94fb592ef",
   "metadata": {
    "tags": [],
    "ExecuteTime": {
     "end_time": "2023-06-17T09:26:23.536903Z",
     "start_time": "2023-06-17T09:26:23.524682Z"
    }
   },
   "outputs": [
    {
     "data": {
      "text/plain": "PosixPath('/Users/samuelchazy/ML_files_X/Applied_Projects/Experiments/LLM_Apps/notebooks')"
     },
     "execution_count": 2,
     "metadata": {},
     "output_type": "execute_result"
    }
   ],
   "source": [
    "import os\n",
    "# from dotenv import load_dotenv\n",
    "# load_dotenv() # read local .env file\n",
    "secret_key = os.environ['OPENAI_API_KEY']\n",
    "\n",
    "from pathlib import Path\n",
    "Path.cwd()"
   ]
  },
  {
   "cell_type": "code",
   "execution_count": 3,
   "outputs": [],
   "source": [
    "from langchain.document_loaders import PyPDFLoader,TextLoader\n",
    "from langchain.text_splitter import TokenTextSplitter,RecursiveCharacterTextSplitter\n",
    "from langchain.chains import RetrievalQA,LLMChain\n",
    "from langchain.chat_models import ChatOpenAI\n",
    "from langchain.vectorstores import DocArrayInMemorySearch\n",
    "from langchain.embeddings import OpenAIEmbeddings\n",
    "from langchain.chains.qa_with_sources import load_qa_with_sources_chain\n",
    "from langchain.prompts import ChatPromptTemplate,PromptTemplate\n",
    "from IPython.display import display, Markdown"
   ],
   "metadata": {
    "collapsed": false,
    "ExecuteTime": {
     "end_time": "2023-06-17T09:26:28.333067Z",
     "start_time": "2023-06-17T09:26:27.414203Z"
    }
   }
  },
  {
   "cell_type": "markdown",
   "source": [
    "#### Load file"
   ],
   "metadata": {
    "collapsed": false
   }
  },
  {
   "cell_type": "code",
   "execution_count": 25,
   "outputs": [],
   "source": [
    "file = '/Users/samuelchazy/ML_files_X/Applied_Projects/Experiments/Generic_templates/LLM_templates/data/AI_in_education.pdf'\n",
    "\n",
    "pdf_loader_1 = PyPDFLoader(file)\n",
    "document_1_loader = pdf_loader_1.load()"
   ],
   "metadata": {
    "collapsed": false,
    "ExecuteTime": {
     "end_time": "2023-06-17T13:52:47.721920Z",
     "start_time": "2023-06-17T13:52:46.581354Z"
    }
   }
  },
  {
   "cell_type": "code",
   "execution_count": 26,
   "outputs": [
    {
     "name": "stderr",
     "output_type": "stream",
     "text": [
      "Created a chunk of size 838, which is longer than the specified 500\n",
      "Created a chunk of size 903, which is longer than the specified 500\n",
      "Created a chunk of size 1050, which is longer than the specified 500\n",
      "Created a chunk of size 517, which is longer than the specified 500\n",
      "Created a chunk of size 814, which is longer than the specified 500\n",
      "Created a chunk of size 1061, which is longer than the specified 500\n",
      "Created a chunk of size 520, which is longer than the specified 500\n",
      "Created a chunk of size 610, which is longer than the specified 500\n",
      "Created a chunk of size 717, which is longer than the specified 500\n",
      "Created a chunk of size 811, which is longer than the specified 500\n",
      "Created a chunk of size 551, which is longer than the specified 500\n",
      "Created a chunk of size 666, which is longer than the specified 500\n",
      "Created a chunk of size 808, which is longer than the specified 500\n",
      "Created a chunk of size 986, which is longer than the specified 500\n",
      "Created a chunk of size 1008, which is longer than the specified 500\n",
      "Created a chunk of size 862, which is longer than the specified 500\n",
      "Created a chunk of size 716, which is longer than the specified 500\n",
      "Created a chunk of size 877, which is longer than the specified 500\n",
      "Created a chunk of size 571, which is longer than the specified 500\n",
      "Created a chunk of size 559, which is longer than the specified 500\n",
      "Created a chunk of size 593, which is longer than the specified 500\n",
      "Created a chunk of size 515, which is longer than the specified 500\n",
      "Created a chunk of size 927, which is longer than the specified 500\n",
      "Created a chunk of size 636, which is longer than the specified 500\n",
      "Created a chunk of size 581, which is longer than the specified 500\n",
      "Created a chunk of size 1285, which is longer than the specified 500\n",
      "Created a chunk of size 861, which is longer than the specified 500\n",
      "Created a chunk of size 854, which is longer than the specified 500\n",
      "Created a chunk of size 580, which is longer than the specified 500\n",
      "Created a chunk of size 595, which is longer than the specified 500\n",
      "Created a chunk of size 565, which is longer than the specified 500\n",
      "Created a chunk of size 515, which is longer than the specified 500\n",
      "Created a chunk of size 636, which is longer than the specified 500\n",
      "Created a chunk of size 635, which is longer than the specified 500\n"
     ]
    }
   ],
   "source": [
    "# my_database_string = ''\n",
    "# for i in range(len(document_1_loader)):\n",
    "#     section = document_1_loader[i].page_content.strip().split('\\n')\n",
    "#     my_database_string += \"\".join(section)"
   ],
   "metadata": {
    "collapsed": false,
    "ExecuteTime": {
     "end_time": "2023-06-17T13:52:53.502184Z",
     "start_time": "2023-06-17T13:52:53.486621Z"
    }
   }
  },
  {
   "cell_type": "code",
   "execution_count": 10,
   "outputs": [],
   "source": [
    "text_splitter = RecursiveCharacterTextSplitter(chunk_size=150,chunk_overlap=20)\n",
    "text = text_splitter.create_documents([str(document_1_loader)])"
   ],
   "metadata": {
    "collapsed": false,
    "ExecuteTime": {
     "end_time": "2023-06-17T09:34:01.634392Z",
     "start_time": "2023-06-17T09:34:01.566767Z"
    }
   }
  },
  {
   "cell_type": "code",
   "execution_count": 14,
   "outputs": [],
   "source": [
    "llm = ChatOpenAI(temperature = 0.0,model='gpt-3.5-turbo')\n",
    "embeddings = OpenAIEmbeddings()"
   ],
   "metadata": {
    "collapsed": false,
    "ExecuteTime": {
     "end_time": "2023-06-17T09:34:40.318465Z",
     "start_time": "2023-06-17T09:34:32.938851Z"
    }
   }
  },
  {
   "cell_type": "code",
   "execution_count": 44,
   "outputs": [
    {
     "data": {
      "text/plain": "VectorStoreRetriever(vectorstore=<langchain.vectorstores.docarray.in_memory.DocArrayInMemorySearch object at 0x13f28a750>, search_type='similarity', search_kwargs={})"
     },
     "execution_count": 44,
     "metadata": {},
     "output_type": "execute_result"
    }
   ],
   "source": [
    "my_database = DocArrayInMemorySearch.from_documents(document_1_loader, embeddings)\n",
    "retriever = my_database.as_retriever()\n",
    "retriever"
   ],
   "metadata": {
    "collapsed": false,
    "ExecuteTime": {
     "end_time": "2023-06-16T16:24:24.261909Z",
     "start_time": "2023-06-16T16:24:21.939847Z"
    }
   }
  },
  {
   "cell_type": "markdown",
   "source": [
    "# RetrievalQA from chain type"
   ],
   "metadata": {
    "collapsed": false,
    "ExecuteTime": {
     "end_time": "2023-06-17T09:34:41.421302Z",
     "start_time": "2023-06-17T09:34:41.417793Z"
    }
   },
   "outputs": [],
   "execution_count": 15
  },
  {
   "cell_type": "code",
   "execution_count": 23,
   "outputs": [],
   "source": [
    "def input_query():\n",
    "    question = input('What is your query?')\n",
    "    display(f'Query: {question}')\n",
    "    return question"
   ],
   "metadata": {
    "collapsed": false,
    "ExecuteTime": {
     "end_time": "2023-06-17T09:39:54.887784Z",
     "start_time": "2023-06-17T09:39:54.886672Z"
    }
   }
  },
  {
   "cell_type": "code",
   "execution_count": 24,
   "outputs": [
    {
     "data": {
      "text/plain": "'Query: What are the use cases of AI in education?'"
     },
     "metadata": {},
     "output_type": "display_data"
    },
    {
     "name": "stdout",
     "output_type": "stream",
     "text": [
      "The use cases of AI in education can be summarized as follows:\n",
      "\n",
      "- Automating and tracking learner's progress: AI has the potential to automate and help track the learner's progress in various skills, identifying where a human teacher's assistance is needed.\n",
      "- Identifying effective teaching methods: AI can be used to help identify the most effective teaching methods based on students' contexts and learning background.\n",
      "- Automating operational tasks: AI can automate monotonous operational tasks, generate assessments, and automate grading and feedback.\n",
      "- Recommending personalized learning experiences: AI can recommend personalized learning experiences to students based on their contexts and learning backgrounds.\n",
      "- Enhancing assessments: AI can enhance our understanding of learners, not only in terms of what they know but also how they learn and which pedagogies work for them.\n",
      "- Providing intelligent tutoring systems: AI can provide intelligent learning environments that can interact with students, provide customized feedback, and enhance their understanding of certain topics.\n",
      "\n",
      "These use cases aim to reduce teachers' workload, provide contextualized learning for students, revolutionize assessments, and provide intelligent tutoring systems. However, it is important to note that teachers play a crucial role in how AI is used by learners, and teacher training is vital to fully understand the strengths and weaknesses of AI products. \n",
      "\n",
      "Citations from the document:\n",
      "- \"AIEd has the potential to dramatically automate and help track the learner's progress in all these skills and identify where best a human teacher's assistance is needed.\"\n",
      "- \"It can automate monotonous operational tasks, generate assessments and automate grading and feedback.\"\n",
      "- \"AI does not only impact what students learn through recommendations, but also how they learn, what are the learning gaps, which pedagogies are more effective and how to retain learner's attention.\"\n",
      "- \"The purpose of AI in Education is to reduce teachers' workload without impacting learning outcomes.\"\n",
      "- \"The purpose of AI in Education is to provide customized and/or personalized learning experiences to students based on their contexts and learning backgrounds.\"\n",
      "- \"The purpose of AI in Education is to enhance our understanding of learners. This not only includes what they know, but also how they learn and which pedagogies work for them.\"\n",
      "- \"The purpose of AI in Education is to provide intelligent learning environments that can interact with students, provide customized feedback and enhance their understanding of certain topics.\"\n",
      "\n",
      "I came up with this conclusion based on the information provided in the document, which highlights the potential of AI in education to automate tasks, provide personalized learning experiences, and enhance assessments. The document also emphasizes the importance of teacher training to ensure that AI products are used effectively and to their full potential. \n",
      "\n",
      "References from the document:\n",
      "- Cutting edge AI by researchers and companies around the world is not of much use if it is not helping the primary grade student in learning.\n",
      "- With the recent developments in AI, particularly reinforcement learning techniques, the future holds exciting possibilities of where AI will take education.\n",
      "- Companies like Pearson and Century Tech are building great technology that is impacting learners across the globe.\n",
      "- For impactful AI in education, learners and teachers always need to be at the epicenter of AI development.\n",
      "- As discussed above, teachers play a very important role on how their AI is used by learners. For this, teacher training is vital to fully understand the strengths and weaknesses of these products.\n"
     ]
    }
   ],
   "source": [
    "def run_model(question,doc_retriever):\n",
    "\n",
    "    response_template = \"\"\"\n",
    "    You are a professional in the Educational Field.\n",
    "    Your task is to read research papers, research documents, educational journals, and conference papers.\n",
    "    You should be analytical and reply in depth.\n",
    "    Always reply in a polite and professional manner.\n",
    "\n",
    "    Divide your answer when possible into bullet points style:\n",
    "    • What is the question.\n",
    "    • How did you analyze the question.\n",
    "    • What did you read in the document to analyze the question.\n",
    "    • What is your answer to the question.\n",
    "    • What made you come up with this conclusion or reply.\n",
    "    • Add the references and citations related to this question and answer from this document in bullet points each one separately.\n",
    "\n",
    "    If you don't know the answer to the question, then reply by: \"I can't be confident about my answer because I am missing the context or some information!\"\n",
    "\n",
    "    <Input>\n",
    "    {context}\n",
    "\n",
    "    <Query>\n",
    "    Question: {question}\n",
    "\n",
    "    <Output>\n",
    "    Answer:\n",
    "    \"\"\"\n",
    "\n",
    "    prompt_response_style = \"reply in a calm and respectful tone\"\n",
    "\n",
    "    prompt = PromptTemplate(template=response_template, input_variables=[\"context\", \"question\"])\n",
    "    chain_type_kwargs = {'prompt':prompt}\n",
    "\n",
    "    query_model = RetrievalQA.from_chain_type(\n",
    "    llm=llm,\n",
    "    chain_type=\"stuff\",\n",
    "    retriever=doc_retriever,\n",
    "        chain_type_kwargs=chain_type_kwargs,\n",
    "    verbose=False)\n",
    "    chat_response = query_model.run(question)\n",
    "\n",
    "    # prompt = ChatPromptTemplate.from_template(template=response_template)\n",
    "    # chat_messages = prompt.format_messages(style=prompt_response_style, text=text, format_instructions=response_template)\n",
    "    # chat_response = llm(chat_messages).content\n",
    "\n",
    "    return chat_response"
   ],
   "metadata": {
    "collapsed": false,
    "ExecuteTime": {
     "end_time": "2023-06-17T09:40:30.454554Z",
     "start_time": "2023-06-17T09:40:01.699491Z"
    }
   }
  },
  {
   "cell_type": "code",
   "execution_count": 17,
   "outputs": [],
   "source": [
    "query = input_query()\n",
    "model = run_model(query,retriever)\n",
    "print(model)"
   ],
   "metadata": {
    "collapsed": false,
    "ExecuteTime": {
     "end_time": "2023-06-17T09:35:46.993702Z",
     "start_time": "2023-06-17T09:35:46.990151Z"
    }
   }
  },
  {
   "cell_type": "code",
   "execution_count": null,
   "outputs": [],
   "source": [],
   "metadata": {
    "collapsed": false
   }
  },
  {
   "cell_type": "code",
   "execution_count": null,
   "outputs": [],
   "source": [
    "# What are the use cases of AI in education?"
   ],
   "metadata": {
    "collapsed": false
   }
  }
 ],
 "metadata": {
  "kernelspec": {
   "display_name": "Python 3 (ipykernel)",
   "language": "python",
   "name": "python3"
  },
  "language_info": {
   "codemirror_mode": {
    "name": "ipython",
    "version": 3
   },
   "file_extension": ".py",
   "mimetype": "text/x-python",
   "name": "python",
   "nbconvert_exporter": "python",
   "pygments_lexer": "ipython3",
   "version": "3.10.9"
  }
 },
 "nbformat": 4,
 "nbformat_minor": 5
}
