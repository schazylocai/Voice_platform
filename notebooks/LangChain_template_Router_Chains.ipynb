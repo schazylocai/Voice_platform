{
 "cells": [
  {
   "cell_type": "markdown",
   "source": [
    "# Install OpenAi code"
   ],
   "metadata": {
    "collapsed": false
   }
  },
  {
   "cell_type": "code",
   "execution_count": 1,
   "outputs": [],
   "source": [
    "#!pip install install openai\n",
    "#pip install python-dotenv\n",
    "import os\n",
    "#!pip install python-dotenv\n",
    "from dotenv import load_dotenv\n",
    "\n",
    "load_dotenv()\n",
    "secret_key = os.getenv('OPENAI_API_KEY')"
   ],
   "metadata": {
    "collapsed": false,
    "ExecuteTime": {
     "end_time": "2023-06-15T12:01:46.754381Z",
     "start_time": "2023-06-15T12:01:46.488492Z"
    }
   }
  },
  {
   "cell_type": "code",
   "execution_count": 2,
   "outputs": [],
   "source": [
    "# #!pip install --upgrade langchain\n",
    "# from langchain.output_parsers import ResponseSchema\n",
    "# from langchain.output_parsers import StructuredOutputParser\n",
    "# from langchain.chains import ConversationChain\n",
    "# from langchain.memory import ConversationBufferMemory\n",
    "# from langchain.memory import ConversationBufferWindowMemory"
   ],
   "metadata": {
    "collapsed": false,
    "ExecuteTime": {
     "end_time": "2023-06-15T12:01:54.962433Z",
     "start_time": "2023-06-15T12:01:54.944750Z"
    }
   }
  },
  {
   "cell_type": "markdown",
   "source": [
    "# Router Chain Template with multiple topics"
   ],
   "metadata": {
    "collapsed": false
   }
  },
  {
   "cell_type": "code",
   "execution_count": 3,
   "outputs": [],
   "source": [
    "from langchain.chat_models import ChatOpenAI\n",
    "from langchain.prompts import ChatPromptTemplate\n",
    "from langchain.chains import LLMChain\n",
    "from langchain.chains.router import MultiPromptChain\n",
    "from langchain.chains.router.llm_router import LLMRouterChain, RouterOutputParser\n",
    "from langchain.prompts import PromptTemplate"
   ],
   "metadata": {
    "collapsed": false,
    "ExecuteTime": {
     "end_time": "2023-06-15T12:01:56.304792Z",
     "start_time": "2023-06-15T12:01:55.643896Z"
    }
   }
  },
  {
   "cell_type": "markdown",
   "source": [
    "#### Define the API to use"
   ],
   "metadata": {
    "collapsed": false
   }
  },
  {
   "cell_type": "code",
   "execution_count": 4,
   "outputs": [],
   "source": [
    "llm = ChatOpenAI(temperature=0)"
   ],
   "metadata": {
    "collapsed": false,
    "ExecuteTime": {
     "end_time": "2023-06-15T12:01:56.579675Z",
     "start_time": "2023-06-15T12:01:56.574504Z"
    }
   }
  },
  {
   "cell_type": "markdown",
   "source": [
    "#### Define the various Topics"
   ],
   "metadata": {
    "collapsed": false
   }
  },
  {
   "cell_type": "code",
   "execution_count": 139,
   "outputs": [],
   "source": [
    "def Topic_Template(language):\n",
    "\n",
    "    art_template = f\"\"\"\n",
    "    You are a passionate art professor. Show genuine passion for the subject matter and convey your enthusiasm for art.\n",
    "    You are great at answering questions about art in a concise and easy to understand manner.\n",
    "    When responding to questions, consider the broader historical, cultural, and conceptual context of the artwork or artistic technique being discussed.\n",
    "    Recommend books, articles, websites, or other resources that can deepen students' understanding of specific artists, movements, or techniques.\n",
    "    Divide you answer into:\n",
    "    {\"context:\"}\n",
    "    - broader historical, cultural, and conceptual context\n",
    "    {\"Technique:\"}\n",
    "    - artistic technique\n",
    "    {\"Resources:\"}\n",
    "    - books, articles, websites, or other resources\n",
    "    When you don't know the answer to a question you admit that you don't know.\n",
    "    you always reply in {language} language.\n",
    "\n",
    "    Here is a question:\n",
    "    {{input}}\n",
    "    \"\"\"\n",
    "\n",
    "    math_template = f\"\"\"\n",
    "    You are a very good mathematician.\n",
    "    You are great at answering math questions.\n",
    "    You are so good because you are able to break down hard problems into their component parts,answer the component parts, and then put them together to answer the broader question.\n",
    "    When answering, put each line of reasoning into a separate line with bullet points style\n",
    "    You will only reply if you are sure of the answer, or else you will say \"Sorry, but I am not able to answer this question with full integrity!\"\n",
    "    you always reply in {language} language.\n",
    "\n",
    "    Here is a question:\n",
    "    {{input}}\n",
    "    \"\"\"\n",
    "\n",
    "    history_template = f\"\"\"\n",
    "    You are a very good historian.\n",
    "    Answer questions in a fun and engaging style.\n",
    "    You have an excellent knowledge of and understanding of people, events and contexts from a range of historical periods.\n",
    "    You have a respect for historical evidence and the ability to make use of it to support your explanations and judgements.\n",
    "    You have the ability to think, reflect, debate, discuss and evaluate the past.\n",
    "    Help students understand the broader context of the historical events or topics being discussed.\n",
    "    Explain the political, social, economic, and cultural factors that influenced those events.\n",
    "    Help students make connections between past and present events.\n",
    "    Discuss how historical developments have shaped contemporary societies and how understanding history can provide insights into current issues and challenges.\n",
    "    Ensure that your knowledge base is grounded in reliable sources and scholarly research.\n",
    "    Emphasize the importance of using primary sources in historical research.\n",
    "    Recommend supplementary readings, documentaries, websites, or other resources that can enrich students' understanding of specific historical topics.\n",
    "    Use inclusive language and show respect for diverse perspectives and experiences.\n",
    "    Ensure that your responses reflect sensitivity to issues of race, gender, ethnicity, religion, and other aspects of identity, particularly.\n",
    "    Acknowledge that history is a complex field with ongoing debates and differing interpretations.\n",
    "    Divide you answer into:\n",
    "    {\"context:\"}\n",
    "    - broader context\n",
    "    - political, social, economic, and cultural factors\n",
    "    {\"Past & Present:\"}\n",
    "    - connections between past and present events\n",
    "    {\"Resources:\"}\n",
    "    - supplementary readings, documentaries, websites, or other resources\n",
    "    When you don't know the answer to a question you admit that you don't know.\n",
    "    you always reply in {language} language.\n",
    "\n",
    "    Here is a question:\n",
    "    {{input}}\n",
    "    \"\"\"\n",
    "\n",
    "    return art_template, math_template, history_template"
   ],
   "metadata": {
    "collapsed": false,
    "ExecuteTime": {
     "end_time": "2023-06-15T16:55:14.406251Z",
     "start_time": "2023-06-15T16:55:14.404054Z"
    }
   }
  },
  {
   "cell_type": "markdown",
   "source": [
    "#### Define each Topic prompt info"
   ],
   "metadata": {
    "collapsed": false
   }
  },
  {
   "cell_type": "code",
   "execution_count": 140,
   "outputs": [],
   "source": [
    "def Define_Topic(art_template, math_template, history_template):\n",
    "\n",
    "    prompt_infos = [\n",
    "        {\n",
    "            \"name\": \"art\",\n",
    "            \"description\": \"Good for answering questions about art\",\n",
    "            \"prompt_template\": art_template\n",
    "        },\n",
    "        {\n",
    "            \"name\": \"math\",\n",
    "            \"description\": \"Good for answering math questions\",\n",
    "            \"prompt_template\": math_template\n",
    "        },\n",
    "        {\n",
    "            \"name\": \"History\",\n",
    "            \"description\": \"Good for answering history questions\",\n",
    "            \"prompt_template\": history_template\n",
    "        },\n",
    "    ]\n",
    "\n",
    "    return prompt_infos"
   ],
   "metadata": {
    "collapsed": false,
    "ExecuteTime": {
     "end_time": "2023-06-15T16:55:14.746057Z",
     "start_time": "2023-06-15T16:55:14.742303Z"
    }
   }
  },
  {
   "cell_type": "markdown",
   "source": [
    "#### Define the destination chains"
   ],
   "metadata": {
    "collapsed": false
   }
  },
  {
   "cell_type": "code",
   "execution_count": 141,
   "outputs": [],
   "source": [
    "def Destination_Chains(prompt_infos):\n",
    "\n",
    "    destination_chains = {}\n",
    "    for p_info in prompt_infos:\n",
    "        name = p_info[\"name\"]\n",
    "        prompt_template = p_info[\"prompt_template\"]\n",
    "        prompt = ChatPromptTemplate.from_template(template=prompt_template)\n",
    "        chain = LLMChain(llm=llm, prompt=prompt)\n",
    "        destination_chains[name] = chain\n",
    "\n",
    "    destinations = [f\"{p['name']}: {p['description']}\" for p in prompt_infos]\n",
    "    destinations_str = \"\\n\".join(destinations)\n",
    "\n",
    "    return destination_chains,destinations_str"
   ],
   "metadata": {
    "collapsed": false,
    "ExecuteTime": {
     "end_time": "2023-06-15T16:55:15.070927Z",
     "start_time": "2023-06-15T16:55:15.067011Z"
    }
   }
  },
  {
   "cell_type": "markdown",
   "source": [
    "#### Define a Default Prompt & Chain"
   ],
   "metadata": {
    "collapsed": false
   }
  },
  {
   "cell_type": "code",
   "execution_count": 142,
   "outputs": [],
   "source": [
    "def Default_Prompt():\n",
    "\n",
    "    default_prompt = ChatPromptTemplate.from_template(\"{input}\")\n",
    "    default_chain = LLMChain(llm=llm, prompt=default_prompt)\n",
    "\n",
    "    return default_chain"
   ],
   "metadata": {
    "collapsed": false,
    "ExecuteTime": {
     "end_time": "2023-06-15T16:55:15.408919Z",
     "start_time": "2023-06-15T16:55:15.405273Z"
    }
   }
  },
  {
   "cell_type": "markdown",
   "source": [
    "#### Define a Multi-Prompt Router Template & Router Template & Prompt"
   ],
   "metadata": {
    "collapsed": false
   }
  },
  {
   "cell_type": "code",
   "execution_count": 143,
   "outputs": [],
   "source": [
    "def Router_Templates(destinations):\n",
    "\n",
    "    MULTI_PROMPT_ROUTER_TEMPLATE = \"\"\"\n",
    "    Given a raw text input to a language model, select the model prompt that is best suited for the input.\n",
    "    You will be given the names of the available prompts and a description of what the prompt is best suited for.\n",
    "    You may also revise the original input if you think that revising it will ultimately lead to a better response from the language model.\n",
    "\n",
    "    REMEMBER: \"destination\" MUST be one of the candidate prompt names specified below OR it can be \"DEFAULT\" if the input is not well suited for any of the candidate prompts.\n",
    "    REMEMBER: \"next_inputs\" can just be the original input if you don't think any modifications are needed.\n",
    "\n",
    "    << FORMATTING >>\n",
    "    Return a markdown code snippet with a JSON object formatted to look like:\n",
    "    ```json\n",
    "    {{{{\n",
    "        \"destination\": string \\ name of the prompt to use or \"DEFAULT\"\n",
    "        \"next_inputs\": string \\ a potentially modified version of the original input\n",
    "    }}}}\n",
    "    ```\n",
    "    << CANDIDATE PROMPTS >>\n",
    "    {destinations}\n",
    "\n",
    "    << INPUT >>\n",
    "    {{input}}\n",
    "\n",
    "    << OUTPUT >>\n",
    "    \"\"\"\n",
    "\n",
    "    router_template = MULTI_PROMPT_ROUTER_TEMPLATE.format(destinations=destinations)\n",
    "    router_prompt = PromptTemplate(\n",
    "        template=router_template,\n",
    "        input_variables=[\"input\"],\n",
    "        output_parser=RouterOutputParser())\n",
    "\n",
    "    return router_prompt"
   ],
   "metadata": {
    "collapsed": false,
    "ExecuteTime": {
     "end_time": "2023-06-15T16:55:15.782982Z",
     "start_time": "2023-06-15T16:55:15.779513Z"
    }
   }
  },
  {
   "cell_type": "markdown",
   "source": [
    "#### Define a Router Chain & Chain"
   ],
   "metadata": {
    "collapsed": false
   }
  },
  {
   "cell_type": "code",
   "execution_count": 144,
   "outputs": [],
   "source": [
    "def Router_chains(router_prompt,destination_chains,default_chain):\n",
    "\n",
    "    llm_api = ChatOpenAI(temperature=0)\n",
    "    router_chain = LLMRouterChain.from_llm(llm_api, router_prompt)\n",
    "    chain = MultiPromptChain(router_chain=router_chain,\n",
    "                             destination_chains=destination_chains,\n",
    "                             default_chain=default_chain, verbose=False)\n",
    "\n",
    "    return chain"
   ],
   "metadata": {
    "collapsed": false,
    "ExecuteTime": {
     "end_time": "2023-06-15T16:55:16.467902Z",
     "start_time": "2023-06-15T16:55:16.464846Z"
    }
   }
  },
  {
   "cell_type": "markdown",
   "source": [
    "#### Define Language & Topic"
   ],
   "metadata": {
    "collapsed": false
   }
  },
  {
   "cell_type": "code",
   "execution_count": 145,
   "outputs": [],
   "source": [
    "def Choose_Language():\n",
    "\n",
    "    user_language = input(\"What's your Language?\")\n",
    "    print('-'*120)\n",
    "    print(user_language)\n",
    "    print('-'*120)\n",
    "\n",
    "    return user_language"
   ],
   "metadata": {
    "collapsed": false,
    "ExecuteTime": {
     "end_time": "2023-06-15T16:55:16.847143Z",
     "start_time": "2023-06-15T16:55:16.842796Z"
    }
   }
  },
  {
   "cell_type": "code",
   "execution_count": 146,
   "outputs": [],
   "source": [
    "# Check the kind of Topic\n",
    "def Choose_Topic(language):\n",
    "\n",
    "    if language.strip().lower() == 'english':\n",
    "        user_topic = input(\"Choose a topic: Art, Math, or History\")\n",
    "\n",
    "    elif language.strip().lower() == 'french':\n",
    "        user_topic = input(\"Choisissez un thème : Art, Mathématiques ou Histoire\")\n",
    "\n",
    "    elif language.strip().lower() == 'arabic':\n",
    "        user_topic = input(\"اختر موضوعًا: الفن، الرياضيات، أو التاريخ.\")\n",
    "\n",
    "    else:\n",
    "        print('Incorrect topic! Try again.')\n",
    "\n",
    "    print(user_topic)\n",
    "    print('-'*120)\n",
    "    return user_topic"
   ],
   "metadata": {
    "collapsed": false,
    "ExecuteTime": {
     "end_time": "2023-06-15T16:55:17.021829Z",
     "start_time": "2023-06-15T16:55:17.015245Z"
    }
   }
  },
  {
   "cell_type": "code",
   "execution_count": 147,
   "outputs": [],
   "source": [
    "def Input_Question(topic,language):\n",
    "\n",
    "    if language.strip().lower() == 'english':\n",
    "        user_input = input(\"Provide a question that is relevant to the specific topic that you chose!\")\n",
    "    elif language.strip().lower() == 'french':\n",
    "        user_input = input(\"donner une question pertinente sur le sujet spécifique que vous avez choisi!\")\n",
    "    elif language.strip().lower() == 'arabic':\n",
    "        user_input = input(\"قدم سؤالًا ذا صلة بالموضوع الذي اخترته\")\n",
    "\n",
    "    relevance_question = f\"is {user_input} a {topic} topic?\"\n",
    "    format_instructions = f\"\"\"\n",
    "    Make sure that {user_input} is a {topic} topic\n",
    "    Reply by Yes or No only\n",
    "\n",
    "    << OUTPUT >>\n",
    "    \"\"\"\n",
    "    chat = ChatOpenAI(temperature=0)\n",
    "    relevance_chat = ChatPromptTemplate.from_template(template=format_instructions)\n",
    "    relevance_format = relevance_chat.format_messages(text=relevance_question, format_instructions=format_instructions)\n",
    "    response = chat(relevance_format).content.split('\\n')\n",
    "\n",
    "    if user_input.strip().lower() == 'quit':\n",
    "        user_quit = True\n",
    "        topic_relevance = False\n",
    "        return user_input,topic_relevance,user_quit\n",
    "\n",
    "    if response[0] == 'No':\n",
    "        topic_relevance = False\n",
    "        user_quit = False\n",
    "        return user_input,topic_relevance,user_quit\n",
    "\n",
    "    else:\n",
    "        topic_relevance = True\n",
    "        user_quit = False\n",
    "        return user_input,topic_relevance,user_quit"
   ],
   "metadata": {
    "collapsed": false,
    "ExecuteTime": {
     "end_time": "2023-06-15T16:55:17.558923Z",
     "start_time": "2023-06-15T16:55:17.550083Z"
    }
   }
  },
  {
   "cell_type": "code",
   "execution_count": 148,
   "outputs": [],
   "source": [
    "def Question_reply(language,question):\n",
    "\n",
    "    if language.strip().lower() == 'english':\n",
    "        print(f\"The answer to your question '{question}' is:\")\n",
    "        print('-'*120)\n",
    "    elif language.strip().lower() == 'french':\n",
    "        print(f\"La réponse a votre question '{question}' est:\")\n",
    "        print('-'*120)\n",
    "    elif language.strip().lower() == 'arabic':\n",
    "        print(f\"{question}الجواب على سوآلك : \")\n",
    "        print('-'*120)"
   ],
   "metadata": {
    "collapsed": false,
    "ExecuteTime": {
     "end_time": "2023-06-15T16:55:18.048534Z",
     "start_time": "2023-06-15T16:55:18.042651Z"
    }
   }
  },
  {
   "cell_type": "code",
   "execution_count": 149,
   "outputs": [],
   "source": [
    "def Run_Chain(question,chain):\n",
    "    answer = chain.run(question)\n",
    "    return answer\n"
   ],
   "metadata": {
    "collapsed": false,
    "ExecuteTime": {
     "end_time": "2023-06-15T16:55:18.288462Z",
     "start_time": "2023-06-15T16:55:18.285833Z"
    }
   }
  },
  {
   "cell_type": "markdown",
   "source": [
    "#### Run chains"
   ],
   "metadata": {
    "collapsed": false
   }
  },
  {
   "cell_type": "code",
   "execution_count": 151,
   "outputs": [],
   "source": [
    "def Run_module():\n",
    "\n",
    "    language = Choose_Language()\n",
    "    topic = Choose_Topic(language)\n",
    "    user_quit = False\n",
    "    topic_relevance = False\n",
    "\n",
    "    while True:\n",
    "        question,topic_relevance,user_quit = Input_Question(topic,language)\n",
    "        if topic_relevance or user_quit:\n",
    "                break\n",
    "\n",
    "    def Question_relevance():\n",
    "        reply = Question_reply(language,question)\n",
    "\n",
    "        art_template, math_template, history_template = Topic_Template(language)\n",
    "        prompt_infos = Define_Topic(art_template, math_template, history_template)\n",
    "        destination_chains,destinations = Destination_Chains(prompt_infos)\n",
    "\n",
    "        default_chain = Default_Prompt()\n",
    "        router_prompt = Router_Templates(destinations)\n",
    "        chain = Router_chains(router_prompt,destination_chains,default_chain)\n",
    "        answer = Run_Chain(question,chain)\n",
    "        print(answer)\n",
    "        print('-'*120)\n",
    "        return reply\n",
    "\n",
    "    if topic_relevance:\n",
    "        Question_relevance()"
   ],
   "metadata": {
    "collapsed": false,
    "ExecuteTime": {
     "end_time": "2023-06-15T16:56:31.706810Z",
     "start_time": "2023-06-15T16:56:31.689986Z"
    }
   }
  },
  {
   "cell_type": "code",
   "execution_count": 155,
   "outputs": [
    {
     "name": "stdout",
     "output_type": "stream",
     "text": [
      "------------------------------------------------------------------------------------------------------------------------\n",
      "english\n",
      "------------------------------------------------------------------------------------------------------------------------\n",
      "history\n",
      "------------------------------------------------------------------------------------------------------------------------\n",
      "The answer to your question 'what is the battle of waterloo?' is:\n",
      "------------------------------------------------------------------------------------------------------------------------\n",
      "Context:\n",
      "The Battle of Waterloo was fought on June 18, 1815, in present-day Belgium. It was the final battle of the Napoleonic Wars, which had been raging across Europe for over a decade. The battle was fought between the French army, led by Napoleon Bonaparte, and the Allied forces, consisting of British, Dutch, and German troops, led by the Duke of Wellington.\n",
      "\n",
      "Political, social, economic, and cultural factors:\n",
      "The Battle of Waterloo was significant for several reasons. Firstly, it marked the end of Napoleon's reign as Emperor of France and his final defeat. Secondly, it led to the restoration of the Bourbon monarchy in France and the establishment of a new balance of power in Europe. Thirdly, it had a significant impact on the political, social, economic, and cultural landscape of Europe in the years that followed.\n",
      "\n",
      "Past & Present:\n",
      "The Battle of Waterloo has had a lasting impact on European history and continues to be studied and remembered today. It is often seen as a turning point in European history, marking the end of the Napoleonic era and the beginning of a new era of peace and stability in Europe. The battle has also been the subject of numerous books, films, and other cultural works, and is remembered as one of the most significant battles in European history.\n",
      "\n",
      "Resources:\n",
      "For those interested in learning more about the Battle of Waterloo, there are many resources available. Some recommended readings include \"Waterloo: The Campaign of 1815\" by John Hussey, \"The Battle of Waterloo: A New History\" by Jeremy Black, and \"Waterloo: The History of Four Days, Three Armies, and One Battle\" by Bernard Cornwell. There are also many documentaries and websites that provide detailed information about the battle and its significance.\n",
      "\n",
      "I hope this helps answer your question about the significance of the Battle of Waterloo. If you have any further questions or would like more information, please don't hesitate to ask.\n",
      "------------------------------------------------------------------------------------------------------------------------\n"
     ]
    }
   ],
   "source": [
    "Run_module()"
   ],
   "metadata": {
    "collapsed": false,
    "ExecuteTime": {
     "end_time": "2023-06-15T17:00:23.333585Z",
     "start_time": "2023-06-15T16:59:38.285157Z"
    }
   }
  },
  {
   "cell_type": "code",
   "execution_count": null,
   "outputs": [],
   "source": [],
   "metadata": {
    "collapsed": false
   }
  }
 ],
 "metadata": {
  "kernelspec": {
   "display_name": "Python 3",
   "language": "python",
   "name": "python3"
  },
  "language_info": {
   "codemirror_mode": {
    "name": "ipython",
    "version": 2
   },
   "file_extension": ".py",
   "mimetype": "text/x-python",
   "name": "python",
   "nbconvert_exporter": "python",
   "pygments_lexer": "ipython2",
   "version": "2.7.6"
  }
 },
 "nbformat": 4,
 "nbformat_minor": 0
}
